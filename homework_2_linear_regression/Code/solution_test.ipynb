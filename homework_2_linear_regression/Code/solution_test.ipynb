{
 "cells": [
  {
   "cell_type": "code",
   "execution_count": 1,
   "id": "a9b9b5f0",
   "metadata": {},
   "outputs": [],
   "source": [
    "import numpy as np \n",
    "from numpy import array\n",
    "import pandas as pd\n",
    "import matplotlib.pyplot as plt\n",
    "from numpy.linalg import inv"
   ]
  },
  {
   "cell_type": "code",
   "execution_count": 2,
   "id": "bfd52e0a",
   "metadata": {},
   "outputs": [
    {
     "name": "stdout",
     "output_type": "stream",
     "text": [
      "a = 8.194, b=-22.003z, score=0.665\n"
     ]
    }
   ],
   "source": [
    "import numpy as np\n",
    "from sklearn import linear_model\n",
    "X = np.array([1, 2, 3, 4, 5, 6, 10]).reshape(-1,1) \n",
    "Y = np.array([0, 1, 3, 2, 20, -6,80])\n",
    "\"\"\"fit y=ax+b\"\"\"\n",
    "model = linear_model.LinearRegression(fit_intercept=True) \n",
    "model.fit(X, Y)\n",
    "print (\"a = %s, b=%s, score=%s\" % \n",
    "       (\"{:.3f}\".format(model.coef_[0]),\n",
    "        \"{:.3f}z\".format(model.intercept_), \n",
    "        \"{:.3f}\".format(model.score(X, Y))))\n"
   ]
  },
  {
   "cell_type": "code",
   "execution_count": 3,
   "id": "ed8709d5",
   "metadata": {},
   "outputs": [],
   "source": [
    "def score(y_true, y_pred):\n",
    "    y_true = np.array(y_true)\n",
    "    y_pred = np.array(y_pred)\n",
    "    \n",
    "    score = 1 - (((y_true - y_pred)**2).sum() /((y_true - y_true.mean()) ** 2).sum())\n",
    "    \n",
    "    print(\"The score for this solution is: \")\n",
    "    return round(score,3)"
   ]
  },
  {
   "cell_type": "code",
   "execution_count": 4,
   "id": "75d663ca",
   "metadata": {},
   "outputs": [],
   "source": [
    "def predictor_1_1(X, y):\n",
    "    \n",
    "    # samples mean++\n",
    "    x_mean = np.mean(X)\n",
    "    y_mean = np.mean(y)\n",
    "    \n",
    "    # Sample x Variance = np.mean((x-x_mean)**2)\n",
    "    x_variance = np.mean((X-x_mean)**2)\n",
    "\n",
    "    # Sample y Variance = np.mean((y-y_mean)**2)\n",
    "    y_variance = np.mean((y-y_mean)**2)\n",
    "\n",
    "    # Sample Covariance = np.mean((x-x_mean)*(y-y_mean))\n",
    "    sxy = np.mean((X.T-x_mean)*(y-y_mean))\n",
    "    \n",
    "    # slope = Sample Covariance / Sample x Variance\n",
    "    a = sxy/x_variance\n",
    "\n",
    "    # intercept = y mean - (slope*x mean)\n",
    "    b = y_mean - a * x_mean\n",
    "    \n",
    "    y_pred = (a * X) + b\n",
    "    \n",
    "    #solution\n",
    "    print(\"Solution 1-1: \")\n",
    "    print(f\"y = {round(a,2)}x + {round(b, 2)}\")\n",
    "    print(\"\")\n",
    "    return y_pred[:,0]"
   ]
  },
  {
   "cell_type": "code",
   "execution_count": 5,
   "id": "b27d7b16",
   "metadata": {},
   "outputs": [
    {
     "name": "stdout",
     "output_type": "stream",
     "text": [
      "Solution 1-1: \n",
      "y = 8.19x + -22.0\n",
      "\n",
      "The score for this solution is: \n"
     ]
    },
    {
     "data": {
      "text/plain": [
       "0.665"
      ]
     },
     "execution_count": 5,
     "metadata": {},
     "output_type": "execute_result"
    }
   ],
   "source": [
    "y_pred_1_1 = predictor_1_1(X, Y)\n",
    "score(Y, y_pred_1_1)"
   ]
  },
  {
   "cell_type": "code",
   "execution_count": 6,
   "id": "33489cf8",
   "metadata": {},
   "outputs": [],
   "source": [
    "def predictor_1_2(X, y):\n",
    "    # Calculate the means of X and y\n",
    "    x_mean = np.mean(X)\n",
    "    y_mean = np.mean(y)\n",
    "    \n",
    "    # Calculate the variance of X and the covariance between X and y\n",
    "    x_variance = np.mean((X - x_mean)**2)\n",
    "    sxy = np.mean((X.T - x_mean) * (y - y_mean))\n",
    "    \n",
    "    # Calculate the slope (k) as covariance divided by variance\n",
    "    k = sxy / x_variance\n",
    "    \n",
    "    # Calculate predictions using vectorized operations\n",
    "    y_pred = k * X  # This directly multiplies each element in X by k\n",
    "    \n",
    "    # Print the model formula\n",
    "    print(\"Solution 1-2: \")\n",
    "    print(f\"y = {round(k,2)}x\")\n",
    "    print(\"\")\n",
    "    return y_pred[:, 0]\n"
   ]
  },
  {
   "cell_type": "code",
   "execution_count": 7,
   "id": "150ef374",
   "metadata": {},
   "outputs": [
    {
     "name": "stdout",
     "output_type": "stream",
     "text": [
      "Solution 1-2: \n",
      "y = 8.19x\n",
      "\n",
      "The score for this solution is: \n"
     ]
    },
    {
     "data": {
      "text/plain": [
       "0.04"
      ]
     },
     "execution_count": 7,
     "metadata": {},
     "output_type": "execute_result"
    }
   ],
   "source": [
    "y_pred_1_2 = predictor_1_2(X, Y)\n",
    "score(Y, y_pred_1_2)"
   ]
  },
  {
   "cell_type": "code",
   "execution_count": 17,
   "id": "e144029b",
   "metadata": {},
   "outputs": [],
   "source": [
    "def predictor_1_3(X, y):\n",
    "\n",
    "    X_design = np.hstack((X**0, X, X**2))\n",
    "    \n",
    "\n",
    "    XTX = np.dot(X_design.T, X_design)\n",
    "    XTX_inv = inv(XTX)\n",
    "    XTy = np.dot(X_design.T, y)\n",
    "    theta = np.dot(XTX_inv, XTy)\n",
    "    \n",
    "    y_pred = np.dot(X_design, theta)\n",
    "    \n",
    "\n",
    "    print(\"Solution 1-3: \")\n",
    "    print(f\"y = {round(theta[1],3)}x + {round(theta[2], 3)}x^2 + {round(theta[0], 3)}\")\n",
    "    print(\"\")\n",
    "    return y_pred"
   ]
  },
  {
   "cell_type": "code",
   "execution_count": 19,
   "id": "93645a3e",
   "metadata": {},
   "outputs": [
    {
     "name": "stdout",
     "output_type": "stream",
     "text": [
      "Solution 1-3: \n",
      "y = -9.315x + 1.58x^2 + 12.419\n",
      "\n",
      "The score for this solution is: \n"
     ]
    },
    {
     "data": {
      "text/plain": [
       "0.881"
      ]
     },
     "execution_count": 19,
     "metadata": {},
     "output_type": "execute_result"
    }
   ],
   "source": [
    "y_pred_1_3 = predictor_1_3(X, Y)\n",
    "score(Y, y_pred_1_3)"
   ]
  },
  {
   "cell_type": "code",
   "execution_count": 26,
   "id": "2b0fa6af",
   "metadata": {},
   "outputs": [],
   "source": [
    "def predictor_1_4(X, y):\n",
    "    \n",
    "    # samples mean++\n",
    "    x_mean = np.mean(X)\n",
    "    y_mean = np.mean(y)\n",
    "    \n",
    "    # Sample x Variance = np.mean((x-x_mean)**2)\n",
    "    x_variance = np.mean((X-x_mean)**2)\n",
    "\n",
    "    # Sample y Variance = np.mean((y-y_mean)**2)\n",
    "    y_variance = np.mean((y-y_mean)**2)\n",
    "\n",
    "    # Sample Covariance = np.mean((x-x_mean)*(y-y_mean))\n",
    "    sxy = np.mean((X.T-x_mean)*(y-y_mean))\n",
    "    \n",
    "    # slope = Sample Covariance / Sample x Variance\n",
    "    a = sxy/x_variance\n",
    "\n",
    "    # intercept = y mean - (slope*x mean)\n",
    "    b = y_mean - a * x_mean\n",
    "    \n",
    "    y_pred = b+ + (a * X) + (a * X**2) + (a * X**3) + (a * X**4) + (a * X**5) + (a * X**6) + (a * X**7) + (a * X**8) + (a * X**9) + (a * X**10)\n",
    "    \n",
    "    #solution\n",
    "    print(\"Solution 1-1: \")\n",
    "    print(f\"y = {round(a,2)}x + {round(b, 2)}\")\n",
    "    print(\"\")\n",
    "    return y_pred[:,0]"
   ]
  },
  {
   "cell_type": "code",
   "execution_count": 27,
   "id": "5a48bc59",
   "metadata": {},
   "outputs": [
    {
     "name": "stdout",
     "output_type": "stream",
     "text": [
      "Solution 1-1: \n",
      "y = 8.19x + -22.0\n",
      "\n",
      "The score for this solution is: \n"
     ]
    },
    {
     "data": {
      "text/plain": [
       "0.881"
      ]
     },
     "execution_count": 27,
     "metadata": {},
     "output_type": "execute_result"
    }
   ],
   "source": [
    "y_pred_1_4 = predictor_1_4(X, Y)\n",
    "score(Y, y_pred_1_3)"
   ]
  },
  {
   "cell_type": "code",
   "execution_count": 23,
   "id": "d6a6acb0",
   "metadata": {},
   "outputs": [],
   "source": [
    "X_design = np.hstack((X**0, X, X**2, X**3, X**4, X**5, X**6, X**7, X**8, X**9, X**10))\n",
    "\n",
    "\n",
    "XTX = np.dot(X_design.T, X_design)\n",
    "XTX_inv = inv(XTX)\n",
    "XTy = np.dot(X_design.T, Y)\n",
    "theta = np.dot(XTX_inv, XTy)\n",
    "\n",
    "y_pred = np.dot(X_design, theta)"
   ]
  },
  {
   "cell_type": "code",
   "execution_count": 25,
   "id": "c2ac4681",
   "metadata": {},
   "outputs": [
    {
     "data": {
      "text/plain": [
       "array([ 5.12765625e+02, -1.07968750e+03,  9.87921875e+02, -4.32976562e+02,\n",
       "        9.87460938e+01, -1.11099854e+01,  4.11056519e-01,  2.10475922e-02,\n",
       "       -1.52790546e-03,  1.44326473e-20, -4.45989937e-21])"
      ]
     },
     "execution_count": 25,
     "metadata": {},
     "output_type": "execute_result"
    }
   ],
   "source": [
    "theta"
   ]
  },
  {
   "cell_type": "code",
   "execution_count": 31,
   "id": "31361978",
   "metadata": {},
   "outputs": [
    {
     "name": "stdout",
     "output_type": "stream",
     "text": [
      "β0 (Intercept): -22.002659574468083\n",
      "β1 (Slope): 8.194148936170212\n"
     ]
    }
   ],
   "source": [
    "from sklearn import linear_model\n",
    "# Create and fit the model\n",
    "model = linear_model.LinearRegression()\n",
    "model.fit(X, Y)\n",
    "\n",
    "# Print the coefficients\n",
    "print(\"β0 (Intercept):\", model.intercept_)\n",
    "print(\"β1 (Slope):\", model.coef_[0])"
   ]
  },
  {
   "cell_type": "code",
   "execution_count": null,
   "id": "767b4c68",
   "metadata": {},
   "outputs": [],
   "source": []
  }
 ],
 "metadata": {
  "kernelspec": {
   "display_name": "Python 3 (ipykernel)",
   "language": "python",
   "name": "python3"
  },
  "language_info": {
   "codemirror_mode": {
    "name": "ipython",
    "version": 3
   },
   "file_extension": ".py",
   "mimetype": "text/x-python",
   "name": "python",
   "nbconvert_exporter": "python",
   "pygments_lexer": "ipython3",
   "version": "3.8.16"
  }
 },
 "nbformat": 4,
 "nbformat_minor": 5
}
