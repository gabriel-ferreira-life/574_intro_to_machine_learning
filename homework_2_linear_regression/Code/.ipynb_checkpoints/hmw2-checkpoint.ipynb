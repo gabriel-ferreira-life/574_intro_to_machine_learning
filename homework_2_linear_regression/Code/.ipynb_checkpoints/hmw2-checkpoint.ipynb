{
 "cells": [
  {
   "cell_type": "markdown",
   "id": "8eeeecaa",
   "metadata": {},
   "source": [
    "# COM S 474/574 Spring 2024\n",
    "# 4.1 Linear Regression\n",
    "## Gabriel Ferreira(gabferre@iastate.edu)"
   ]
  },
  {
   "cell_type": "markdown",
   "id": "7959065c",
   "metadata": {},
   "source": [
    "### - The Real Estate Dataset"
   ]
  },
  {
   "cell_type": "markdown",
   "id": "99e966d6",
   "metadata": {},
   "source": [
    "- data source: https://www.kaggle.com/datasets/quantbruce/real-estate-price-prediction/\n",
    "- a local copy is saved as \"data/Real_estate.csv\""
   ]
  },
  {
   "cell_type": "code",
   "execution_count": 1,
   "id": "b78cdeb0",
   "metadata": {},
   "outputs": [],
   "source": [
    "import numpy as np \n",
    "from numpy import array\n",
    "import pandas as pd\n",
    "import matplotlib.pyplot as plt\n",
    "from numpy.linalg import inv\n",
    "from sklearn.preprocessing import PolynomialFeatures\n",
    "from sklearn.linear_model import LinearRegression "
   ]
  },
  {
   "cell_type": "markdown",
   "id": "d2d026a6",
   "metadata": {},
   "source": [
    "### Dataset"
   ]
  },
  {
   "cell_type": "code",
   "execution_count": 2,
   "id": "e7001616",
   "metadata": {},
   "outputs": [],
   "source": [
    "x=[1,2,3,4,5,6,10]\n",
    "y=[0,1,3,2,20,-6,80]"
   ]
  },
  {
   "cell_type": "markdown",
   "id": "e18ffa9d",
   "metadata": {},
   "source": [
    "### Visualize"
   ]
  },
  {
   "cell_type": "code",
   "execution_count": 3,
   "id": "bf673b9c",
   "metadata": {},
   "outputs": [
    {
     "data": {
      "text/plain": [
       "<matplotlib.legend.Legend at 0x7fdf1500b310>"
      ]
     },
     "execution_count": 3,
     "metadata": {},
     "output_type": "execute_result"
    },
    {
     "data": {
      "image/png": "[encoded data removed]",
      "text/plain": [
       "<Figure size 800x500 with 1 Axes>"
      ]
     },
     "metadata": {},
     "output_type": "display_data"
    }
   ],
   "source": [
    "# Creating a scatter plot\n",
    "plt.figure(figsize=(8, 5))\n",
    "plt.scatter(x,y, c='r', marker='*',label='xi,yi')\n",
    "plt.xlabel('x')\n",
    "plt.ylabel('y')\n",
    "plt.title('Question 1 Dataset')\n",
    "plt.legend()"
   ]
  },
  {
   "cell_type": "markdown",
   "id": "11b2ec0a",
   "metadata": {},
   "source": [
    "### 1.a)"
   ]
  },
  {
   "cell_type": "code",
   "execution_count": 4,
   "id": "58794409",
   "metadata": {},
   "outputs": [
    {
     "name": "stdout",
     "output_type": "stream",
     "text": [
      "x_mean: 4.43  |  y_mean: 14.29\n"
     ]
    }
   ],
   "source": [
    "x_mean = round(np.mean(x), 2)\n",
    "y_mean = round(np.mean(y), 2)\n",
    "print(\"x_mean:\", x_mean, \" | \", \"y_mean:\", y_mean)"
   ]
  },
  {
   "cell_type": "markdown",
   "id": "d1657837",
   "metadata": {},
   "source": [
    "### 1.b)\n",
    "Sample x Variance = np.mean((x-x_mean)**2)\\\n",
    "Sample y Variance = np.mean((y-y_mean)**2)\\\n",
    "Sample Covariance = np.mean((x-x_mean)*(y-y_mean))"
   ]
  },
  {
   "cell_type": "code",
   "execution_count": 5,
   "id": "d37ea8fa",
   "metadata": {},
   "outputs": [
    {
     "name": "stdout",
     "output_type": "stream",
     "text": [
      "Sample x Variance: 7.673471428571427  |  Sample y Variance: 774.4898142857145  |  Sample Covariance: 62.88\n"
     ]
    }
   ],
   "source": [
    "# Sample x Variance = np.mean((x-x_mean)**2)\n",
    "x_variance = np.mean((x-x_mean)**2)\n",
    "\n",
    "# Sample y Variance = np.mean((y-y_mean)**2)\n",
    "y_variance = np.mean((y-y_mean)**2)\n",
    "\n",
    "# Sample Covariance = np.mean((x-x_mean)*(y-y_mean))\n",
    "sxy = np.mean((x-x_mean)*(y-y_mean))\n",
    "\n",
    "print(\"Sample x Variance:\", x_variance, \" | \", \"Sample y Variance:\", y_variance, \" | \", \"Sample Covariance:\", round(sxy, 2))"
   ]
  },
  {
   "cell_type": "markdown",
   "id": "82dcc5e5",
   "metadata": {},
   "source": [
    "### 1.c) What is the solution (a, b) in y = ax + b? (1-1)\n",
    "a = slope\\\n",
    "b = intercept"
   ]
  },
  {
   "cell_type": "code",
   "execution_count": 6,
   "id": "fa8badf7",
   "metadata": {},
   "outputs": [
    {
     "name": "stdout",
     "output_type": "stream",
     "text": [
      "Slope: 8.194147554747993  |  Intercept: -22.010073667533604\n",
      "\n",
      "y = 8.19x + -22.01\n"
     ]
    }
   ],
   "source": [
    "# slope = Sample Covariance / Sample x Variance\n",
    "a = sxy/x_variance\n",
    "\n",
    "# intercept = y mean - (slope*x mean)\n",
    "b = y_mean - a * x_mean\n",
    "\n",
    "print(\"Slope:\", a, \" | \", \"Intercept:\", b)\n",
    "print(\"\")\n",
    "print(f\"y = {round(a,2)}x + {round(b, 2)}\")"
   ]
  },
  {
   "cell_type": "markdown",
   "id": "ad4a0f0c",
   "metadata": {},
   "source": [
    "### 1.d)"
   ]
  },
  {
   "cell_type": "markdown",
   "id": "4e7c803e",
   "metadata": {},
   "source": [
    "### 1.e)  What is the solution (k) in y = kx? (1-2)\n",
    "Assuming k = slope"
   ]
  },
  {
   "cell_type": "code",
   "execution_count": 7,
   "id": "d449a5eb",
   "metadata": {},
   "outputs": [
    {
     "name": "stdout",
     "output_type": "stream",
     "text": [
      "Slope: 8.194147554747993\n",
      "\n",
      "y = 8.19x\n"
     ]
    }
   ],
   "source": [
    "# slope = Sample Covariance / Sample x Variance\n",
    "k = sxy/x_variance\n",
    "\n",
    "print(\"Slope:\", a)\n",
    "print(\"\")\n",
    "print(f\"y = {round(a,2)}x\")"
   ]
  },
  {
   "cell_type": "markdown",
   "id": "2ebae39b",
   "metadata": {},
   "source": [
    "### 1.f)"
   ]
  },
  {
   "cell_type": "markdown",
   "id": "8ca45b02",
   "metadata": {},
   "source": [
    "### 1.g)"
   ]
  },
  {
   "cell_type": "markdown",
   "id": "228584b8",
   "metadata": {},
   "source": [
    "### 1.g) What is the solution (α, β, and γ) in y = αx + βx2 + γ? (1-3)\n",
    "α = the coefficient of the linear term x \n",
    "\n",
    "β = the coefficient of the quadratic term x^2\n",
    "\n",
    "γ = intercept term, which is the value of y when all x ariables are 0 \\\n",
    "\\\n",
    "θ=(X^TX)^−1X^Ty where X = [γ, α, β]"
   ]
  },
  {
   "cell_type": "markdown",
   "id": "fd5a8a6f",
   "metadata": {},
   "source": [
    "#### X"
   ]
  },
  {
   "cell_type": "code",
   "execution_count": 8,
   "id": "6f076c19",
   "metadata": {},
   "outputs": [
    {
     "name": "stdout",
     "output_type": "stream",
     "text": [
      "(7, 3)\n"
     ]
    },
    {
     "data": {
      "text/plain": [
       "array([[  1,   1,   1],\n",
       "       [  1,   2,   4],\n",
       "       [  1,   3,   9],\n",
       "       [  1,   4,  16],\n",
       "       [  1,   5,  25],\n",
       "       [  1,   6,  36],\n",
       "       [  1,  10, 100]])"
      ]
     },
     "execution_count": 8,
     "metadata": {},
     "output_type": "execute_result"
    }
   ],
   "source": [
    "# Constructing the matrix X\n",
    "X = array([[1, xi, xi**2] for xi in x])\n",
    "print(X.shape)\n",
    "X"
   ]
  },
  {
   "cell_type": "markdown",
   "id": "1f36f429",
   "metadata": {},
   "source": [
    "#### X^T"
   ]
  },
  {
   "cell_type": "code",
   "execution_count": 9,
   "id": "3c48a75d",
   "metadata": {},
   "outputs": [
    {
     "name": "stdout",
     "output_type": "stream",
     "text": [
      "(3, 7)\n"
     ]
    },
    {
     "data": {
      "text/plain": [
       "array([[  1,   1,   1,   1,   1,   1,   1],\n",
       "       [  1,   2,   3,   4,   5,   6,  10],\n",
       "       [  1,   4,   9,  16,  25,  36, 100]])"
      ]
     },
     "execution_count": 9,
     "metadata": {},
     "output_type": "execute_result"
    }
   ],
   "source": [
    "print(X.T.shape)\n",
    "X.T"
   ]
  },
  {
   "cell_type": "markdown",
   "id": "be08ebf0",
   "metadata": {},
   "source": [
    "#### (X^T * X)"
   ]
  },
  {
   "cell_type": "code",
   "execution_count": 10,
   "id": "f9f994ca",
   "metadata": {},
   "outputs": [
    {
     "data": {
      "text/plain": [
       "array([[    7,    31,   191],\n",
       "       [   31,   191,  1441],\n",
       "       [  191,  1441, 12275]])"
      ]
     },
     "execution_count": 10,
     "metadata": {},
     "output_type": "execute_result"
    }
   ],
   "source": [
    "XTX = X.T @ X\n",
    "XTX"
   ]
  },
  {
   "cell_type": "markdown",
   "id": "5e2be003",
   "metadata": {},
   "source": [
    "#### (X^T * X)^-1"
   ]
  },
  {
   "cell_type": "code",
   "execution_count": 11,
   "id": "ee3b4ad5",
   "metadata": {},
   "outputs": [
    {
     "data": {
      "text/plain": [
       "array([[ 1.51880057, -0.59662066,  0.04640647],\n",
       "       [-0.59662066,  0.28016137, -0.02360554],\n",
       "       [ 0.04640647, -0.02360554,  0.0021305 ]])"
      ]
     },
     "execution_count": 11,
     "metadata": {},
     "output_type": "execute_result"
    }
   ],
   "source": [
    "XTX_inv = inv(XTX)\n",
    "XTX_inv"
   ]
  },
  {
   "cell_type": "markdown",
   "id": "08f51a59",
   "metadata": {},
   "source": [
    "#### (X^T * y)"
   ]
  },
  {
   "cell_type": "code",
   "execution_count": 12,
   "id": "2dbda12a",
   "metadata": {},
   "outputs": [
    {
     "data": {
      "text/plain": [
       "array([ 100,  883, 8347])"
      ]
     },
     "execution_count": 12,
     "metadata": {},
     "output_type": "execute_result"
    }
   ],
   "source": [
    "XTy = X.T @ y\n",
    "XTy"
   ]
  },
  {
   "cell_type": "markdown",
   "id": "0ba1c851",
   "metadata": {},
   "source": [
    "#### θ = [γ, α, β]"
   ]
  },
  {
   "cell_type": "code",
   "execution_count": 13,
   "id": "90d1fbbc",
   "metadata": {},
   "outputs": [
    {
     "data": {
      "text/plain": [
       "array([12.41884817, -9.31500873,  1.58027923])"
      ]
     },
     "execution_count": 13,
     "metadata": {},
     "output_type": "execute_result"
    }
   ],
   "source": [
    "theta = XTX_inv @ XTy\n",
    "theta"
   ]
  },
  {
   "cell_type": "code",
   "execution_count": 14,
   "id": "0057a0e7",
   "metadata": {},
   "outputs": [
    {
     "name": "stdout",
     "output_type": "stream",
     "text": [
      "y = αx + βx2 + γ\n",
      "y = -9.315x + 1.58x^2 + 12.419\n"
     ]
    }
   ],
   "source": [
    "print(\"y = αx + βx2 + γ\")\n",
    "print(f\"y = {round(theta[1],3)}x + {round(theta[2], 3)}x^2 + {round(theta[0], 3)}\")"
   ]
  },
  {
   "cell_type": "markdown",
   "id": "ef316e87",
   "metadata": {},
   "source": [
    "### 1.h)"
   ]
  },
  {
   "cell_type": "markdown",
   "id": "f3542165",
   "metadata": {},
   "source": [
    "### 1.i)"
   ]
  },
  {
   "cell_type": "markdown",
   "id": "41c8400b",
   "metadata": {},
   "source": [
    "#### Score Function"
   ]
  },
  {
   "cell_type": "code",
   "execution_count": 63,
   "id": "31d23f5a",
   "metadata": {},
   "outputs": [],
   "source": [
    "def score(y_true, y_pred):\n",
    "    y_true = np.array(y_true)\n",
    "    y_pred = np.array(y_pred)\n",
    "    \n",
    "    score = (((y_true - y_pred)**2).sum() /((y_true - y_true.mean()) ** 2).sum())\n",
    "    \n",
    "    print(\"The score for this solution is: \")\n",
    "    return round(score,3)"
   ]
  },
  {
   "cell_type": "markdown",
   "id": "696e996a",
   "metadata": {},
   "source": [
    "# 1-1)"
   ]
  },
  {
   "cell_type": "code",
   "execution_count": 64,
   "id": "d6e44fc3",
   "metadata": {},
   "outputs": [],
   "source": [
    "def predictor_1_1(X, y):\n",
    "    \n",
    "    # samples mean++\n",
    "    x_mean = np.mean(X)\n",
    "    y_mean = np.mean(y)\n",
    "    \n",
    "    # Sample x Variance = np.mean((x-x_mean)**2)\n",
    "    x_variance = np.mean((X-x_mean)**2)\n",
    "\n",
    "    # Sample y Variance = np.mean((y-y_mean)**2)\n",
    "    y_variance = np.mean((y-y_mean)**2)\n",
    "\n",
    "    # Sample Covariance = np.mean((x-x_mean)*(y-y_mean))\n",
    "    sxy = np.mean((X.T-x_mean)*(y-y_mean))\n",
    "    \n",
    "    # slope = Sample Covariance / Sample x Variance\n",
    "    a = sxy/x_variance\n",
    "\n",
    "    # intercept = y mean - (slope*x mean)\n",
    "    b = y_mean - a * x_mean\n",
    "    \n",
    "    y_pred = (a * X) + b\n",
    "    \n",
    "    #solution\n",
    "    print(\"Solution 1-1: \")\n",
    "    print(f\"y = {round(a,2)}x + {round(b, 2)}\")\n",
    "    print(\"\")\n",
    "    return y_pred[:,0]"
   ]
  },
  {
   "cell_type": "code",
   "execution_count": 66,
   "id": "238d7a67",
   "metadata": {},
   "outputs": [
    {
     "name": "stdout",
     "output_type": "stream",
     "text": [
      "Solution 1-1: \n",
      "y = 8.19x + -22.0\n",
      "\n",
      "The score for this solution is: \n"
     ]
    },
    {
     "data": {
      "text/plain": [
       "0.335"
      ]
     },
     "execution_count": 66,
     "metadata": {},
     "output_type": "execute_result"
    }
   ],
   "source": [
    "y_pred_1_1 = predictor_1_1(X, Y)\n",
    "score(Y, y_pred_1_1)"
   ]
  },
  {
   "cell_type": "code",
   "execution_count": 67,
   "id": "8b81e428",
   "metadata": {},
   "outputs": [
    {
     "name": "stdout",
     "output_type": "stream",
     "text": [
      "a = 8.194, b=-22.003z, score=0.665\n"
     ]
    }
   ],
   "source": [
    "import numpy as np\n",
    "from sklearn import linear_model\n",
    "X = np.array([1, 2, 3, 4, 5, 6, 10]).reshape(-1,1) \n",
    "Y = np.array([0, 1, 3, 2, 20, -6,80])\n",
    "\"\"\"fit y=ax+b\"\"\"\n",
    "model = linear_model.LinearRegression(fit_intercept=True) \n",
    "model.fit(X, Y)\n",
    "print (\"a = %s, b=%s, score=%s\" % \n",
    "       (\"{:.3f}\".format(model.coef_[0]),\n",
    "        \"{:.3f}z\".format(model.intercept_), \n",
    "        \"{:.3f}\".format(model.score(X, Y))))\n"
   ]
  },
  {
   "cell_type": "markdown",
   "id": "98640558",
   "metadata": {},
   "source": [
    "# (1-2)"
   ]
  },
  {
   "cell_type": "code",
   "execution_count": 68,
   "id": "bea8aa36",
   "metadata": {},
   "outputs": [],
   "source": [
    "def predictor_1_2(X, y):\n",
    "    # Calculate the means of X and y\n",
    "    x_mean = np.mean(X)\n",
    "    y_mean = np.mean(y)\n",
    "    \n",
    "    # Calculate the variance of X and the covariance between X and y\n",
    "    x_variance = np.mean((X - x_mean)**2)\n",
    "    sxy = np.mean((X.T - x_mean) * (y - y_mean))\n",
    "    \n",
    "    # Calculate the slope (k) as covariance divided by variance\n",
    "    k = sxy / x_variance\n",
    "    \n",
    "    # Calculate predictions using vectorized operations\n",
    "    y_pred = k * X  # This directly multiplies each element in X by k\n",
    "    \n",
    "    # Print the model formula\n",
    "    print(\"Solution 1-2: \")\n",
    "    print(f\"y = {round(k,2)}x\")\n",
    "    print(\"\")\n",
    "    return y_pred[:, 0]\n"
   ]
  },
  {
   "cell_type": "code",
   "execution_count": 69,
   "id": "8112f048",
   "metadata": {},
   "outputs": [
    {
     "name": "stdout",
     "output_type": "stream",
     "text": [
      "Solution 1-2: \n",
      "y = 8.19x\n",
      "\n",
      "The score for this solution is: \n"
     ]
    },
    {
     "data": {
      "text/plain": [
       "0.96"
      ]
     },
     "execution_count": 69,
     "metadata": {},
     "output_type": "execute_result"
    }
   ],
   "source": [
    "y_pred_1_2 = predictor_1_2(X, Y)\n",
    "score(Y, y_pred_1_2)"
   ]
  },
  {
   "cell_type": "code",
   "execution_count": 70,
   "id": "7e07b3f9",
   "metadata": {},
   "outputs": [
    {
     "name": "stdout",
     "output_type": "stream",
     "text": [
      "a = 4.623, b=0.000z, score=0.489\n"
     ]
    }
   ],
   "source": [
    "import numpy as np\n",
    "from sklearn import linear_model\n",
    "X = np.array([1, 2, 3, 4, 5, 6, 10]).reshape(-1,1) \n",
    "Y = np.array([0, 1, 3, 2, 20, -6,80])\n",
    "\"\"\"fit y=ax+b\"\"\"\n",
    "model = linear_model.LinearRegression(fit_intercept=False) \n",
    "model.fit(X, Y)\n",
    "print (\"a = %s, b=%s, score=%s\" % \n",
    "       (\"{:.3f}\".format(model.coef_[0]),\n",
    "        \"{:.3f}z\".format(model.intercept_), \n",
    "        \"{:.3f}\".format(model.score(X, Y))))\n"
   ]
  },
  {
   "cell_type": "markdown",
   "id": "ebd450af",
   "metadata": {},
   "source": [
    "# (1-3)"
   ]
  },
  {
   "cell_type": "code",
   "execution_count": 71,
   "id": "3f9a3b1f",
   "metadata": {},
   "outputs": [],
   "source": [
    "def predictor_1_3(X, y):\n",
    "\n",
    "    X_design = np.hstack((X**0, X, X**2))\n",
    "    \n",
    "\n",
    "    XTX = np.dot(X_design.T, X_design)\n",
    "    XTX_inv = inv(XTX)\n",
    "    XTy = np.dot(X_design.T, y)\n",
    "    theta = np.dot(XTX_inv, XTy)\n",
    "    \n",
    "    y_pred = np.dot(X_design, theta)\n",
    "    \n",
    "\n",
    "    print(\"Solution 1-3: \")\n",
    "    print(f\"y = {round(theta[1],3)}x + {round(theta[2], 3)}x^2 + {round(theta[0], 3)}\")\n",
    "    print(\"\")\n",
    "    return y_pred"
   ]
  },
  {
   "cell_type": "code",
   "execution_count": 72,
   "id": "6285a113",
   "metadata": {},
   "outputs": [
    {
     "name": "stdout",
     "output_type": "stream",
     "text": [
      "Solution 1-3: \n",
      "y = -9.315x + 1.58x^2 + 12.419\n",
      "\n",
      "The score for this solution is: \n"
     ]
    },
    {
     "data": {
      "text/plain": [
       "0.119"
      ]
     },
     "execution_count": 72,
     "metadata": {},
     "output_type": "execute_result"
    }
   ],
   "source": [
    "y_pred_1_3 = predictor_1_3(X, Y)\n",
    "score(Y, y_pred_1_3)"
   ]
  },
  {
   "cell_type": "code",
   "execution_count": 74,
   "id": "4f2439b5",
   "metadata": {},
   "outputs": [
    {
     "name": "stdout",
     "output_type": "stream",
     "text": [
      "a = 0.000, b=-9.315, intercept=12.419z, score=0.881\n"
     ]
    }
   ],
   "source": [
    "X = np.array([1, 2, 3, 4, 5, 6, 10]).reshape(-1,1)\n",
    "Y = np.array([0, 1, 3, 2, 20, -6,80])\n",
    "\n",
    "\n",
    "poly_features = PolynomialFeatures(degree=2)\n",
    "X_poly = poly_features.fit_transform(X)\n",
    "\n",
    "\n",
    "model = LinearRegression()\n",
    "model.fit(X_poly, Y)\n",
    "\n",
    "\n",
    "coefficients = linear_reg.coef_\n",
    "intercept = linear_reg.intercept_\n",
    "\n",
    "a = coefficients[1]\n",
    "b = coefficients[2] \n",
    "\n",
    "print (\"a = %s, b=%s, intercept=%s, score=%s\" % \n",
    "       (\"{:.3f}\".format(model.coef_[0]),\n",
    "        \"{:.3f}\".format(model.coef_[1]),\n",
    "        \"{:.3f}z\".format(model.intercept_), \n",
    "        \"{:.3f}\".format(model.score(X_poly, Y))))\n"
   ]
  },
  {
   "cell_type": "markdown",
   "id": "522e8f1b",
   "metadata": {},
   "source": []
  },
  {
   "cell_type": "markdown",
   "id": "e3e669ad",
   "metadata": {},
   "source": [
    "My solution for the functions 1-1, 1-2 and 1-3 has aligned with my previous answers for them."
   ]
  },
  {
   "cell_type": "markdown",
   "id": "1f9837e5",
   "metadata": {},
   "source": [
    "### 1.j)"
   ]
  },
  {
   "cell_type": "markdown",
   "id": "3bac173a",
   "metadata": {},
   "source": [
    "Mathematically, there is not an unique solution for the regression problem using the given function form and dataset. As explained in class, in order for a solution to be unique, the design matix X is of full rank. For X to be of full rankm the number of observation must be grater than or equal to the number of parameters. In our problem, the given function form is a 10th-degree polynomial plus b0 (11 pameters) and only 7 obeservations in the given dataset. This means we have more parameters than observations in the dataset, which implacates that X is not full of rank, and therefore, have multiple solutions. \n",
    "\n",
    "Now, if we fit numpy or sklearn, I am sure they have programming in place the deal with scenarios like this. Howerver, we should get an solution that overfits the data anf fail to generalize it. Let's fit a polynomial to our X and see its score:"
   ]
  },
  {
   "cell_type": "code",
   "execution_count": 23,
   "id": "794fef49",
   "metadata": {},
   "outputs": [],
   "source": [
    "poly = PolynomialFeatures(degree=10)\n",
    "X_poly = poly.fit_transform(X)"
   ]
  },
  {
   "cell_type": "code",
   "execution_count": 31,
   "id": "35da8c07",
   "metadata": {},
   "outputs": [
    {
     "name": "stdout",
     "output_type": "stream",
     "text": [
      "Coefficients: [ 1.61885839e-08 -4.83585207e-02 -1.03889084e-01 -1.35071866e-01\n",
      " -8.05502926e-02  9.25042877e-02  1.94841847e-01 -1.63232771e-01\n",
      "  4.55142965e-02 -5.34639689e-03  2.22423392e-04]\n",
      "Intercept: 0.20336606071630037\n"
     ]
    }
   ],
   "source": [
    "# Fit a linear regression model\n",
    "model = LinearRegression().fit(X_poly, Y)\n",
    "\n",
    "# The model's coefficients\n",
    "print(\"Coefficients:\", model.coef_)\n",
    "print(\"Intercept:\", model.intercept_)\n"
   ]
  },
  {
   "cell_type": "code",
   "execution_count": 32,
   "id": "63fb54e8",
   "metadata": {},
   "outputs": [
    {
     "data": {
      "text/plain": [
       "1.0"
      ]
     },
     "execution_count": 32,
     "metadata": {},
     "output_type": "execute_result"
    }
   ],
   "source": [
    "model.score(X_poly, Y)"
   ]
  },
  {
   "cell_type": "code",
   "execution_count": 37,
   "id": "8a2f92e9",
   "metadata": {},
   "outputs": [
    {
     "name": "stdout",
     "output_type": "stream",
     "text": [
      "a = 0.000, b=0.203z, score=1.000\n"
     ]
    }
   ],
   "source": [
    "print (\"a = %s, b=%s, score=%s\" % \n",
    "       (\"{:.3f}\".format(model.coef_[0]),\n",
    "        \"{:.3f}z\".format(model.intercept_), \n",
    "        \"{:.3f}\".format(model.score(X_poly, Y))))"
   ]
  },
  {
   "cell_type": "code",
   "execution_count": 40,
   "id": "cbede7fe",
   "metadata": {},
   "outputs": [],
   "source": [
    "def predictor_poly(X, Y): \n",
    "    poly = PolynomialFeatures(degree=10)\n",
    "    X_poly = poly.fit_transform(X)\n",
    "    \n",
    "    model = LinearRegression().fit(X_poly, Y)\n",
    "    \n",
    "    return model"
   ]
  },
  {
   "cell_type": "code",
   "execution_count": 42,
   "id": "dc5cc2d7",
   "metadata": {},
   "outputs": [
    {
     "data": {
      "text/plain": [
       "1.0"
      ]
     },
     "execution_count": 42,
     "metadata": {},
     "output_type": "execute_result"
    }
   ],
   "source": [
    "predictor_poly(X, Y).score(X_poly, Y)"
   ]
  }
 ],
 "metadata": {
  "kernelspec": {
   "display_name": "Python 3 (ipykernel)",
   "language": "python",
   "name": "python3"
  },
  "language_info": {
   "codemirror_mode": {
    "name": "ipython",
    "version": 3
   },
   "file_extension": ".py",
   "mimetype": "text/x-python",
   "name": "python",
   "nbconvert_exporter": "python",
   "pygments_lexer": "ipython3",
   "version": "3.8.16"
  }
 },
 "nbformat": 4,
 "nbformat_minor": 5
}
