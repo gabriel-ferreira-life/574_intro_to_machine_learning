{
 "cells": [
  {
   "cell_type": "code",
   "execution_count": 1,
   "id": "642e0f4a",
   "metadata": {},
   "outputs": [
    {
     "data": {
      "text/latex": [
       "$\\displaystyle \\frac{28}{\\left(7 x^{2} + 4\\right)^{\\frac{3}{2}}}$"
      ],
      "text/plain": [
       "28/(7*x**2 + 4)**(3/2)"
      ]
     },
     "execution_count": 1,
     "metadata": {},
     "output_type": "execute_result"
    }
   ],
   "source": [
    "from sympy import symbols, diff, sqrt\n",
    "\n",
    "# Define symbols\n",
    "x = symbols('x')\n",
    "\n",
    "# Define the function and its first derivative\n",
    "f_prime = 7*x / sqrt(7*x**2 + 4)\n",
    "\n",
    "# Compute the second derivative using the quotient rule via differentiation\n",
    "f_double_prime = diff(f_prime, x)\n",
    "\n",
    "f_double_prime.simplify()\n"
   ]
  },
  {
   "cell_type": "code",
   "execution_count": null,
   "id": "8ded8a7f",
   "metadata": {},
   "outputs": [],
   "source": []
  }
 ],
 "metadata": {
  "kernelspec": {
   "display_name": "Python 3 (ipykernel)",
   "language": "python",
   "name": "python3"
  },
  "language_info": {
   "codemirror_mode": {
    "name": "ipython",
    "version": 3
   },
   "file_extension": ".py",
   "mimetype": "text/x-python",
   "name": "python",
   "nbconvert_exporter": "python",
   "pygments_lexer": "ipython3",
   "version": "3.8.16"
  }
 },
 "nbformat": 4,
 "nbformat_minor": 5
}
