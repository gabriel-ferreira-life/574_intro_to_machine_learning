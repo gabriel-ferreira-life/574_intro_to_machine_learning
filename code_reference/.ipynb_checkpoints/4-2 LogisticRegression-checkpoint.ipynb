{
 "cells": [
  {
   "cell_type": "markdown",
   "id": "eb15e8fa",
   "metadata": {},
   "source": [
    "# COM S 474/574 Spring 2024\n",
    "# 4.2 Logistic Regression\n",
    "## Bowen Weng (bweng@iastate.edu)"
   ]
  },
  {
   "cell_type": "markdown",
   "id": "d212a167",
   "metadata": {},
   "source": [
    "### - The Real Estate Dataset - Mod"
   ]
  },
  {
   "cell_type": "markdown",
   "id": "1638a546",
   "metadata": {},
   "source": [
    "- data source: https://www.kaggle.com/datasets/quantbruce/real-estate-price-prediction/\n",
    "- a local copy is saved as \"data/Real_estate.csv\""
   ]
  },
  {
   "cell_type": "code",
   "execution_count": 5,
   "id": "8ee83f47",
   "metadata": {},
   "outputs": [],
   "source": [
    "import numpy as np \n",
    "import pandas as pd\n",
    "import matplotlib.pyplot as plt"
   ]
  },
  {
   "cell_type": "code",
   "execution_count": 6,
   "id": "083f993e",
   "metadata": {},
   "outputs": [],
   "source": [
    "# read and print the data set\n",
    "real_estate_data = pd.read_csv(\"data/Real_estate.csv\")"
   ]
  },
  {
   "cell_type": "code",
   "execution_count": 7,
   "id": "0757d87b",
   "metadata": {},
   "outputs": [
    {
     "name": "stdout",
     "output_type": "stream",
     "text": [
      "      No  X1 transaction date  X2 house age  \\\n",
      "0      1             2012.917          32.0   \n",
      "1      2             2012.917          19.5   \n",
      "2      3             2013.583          13.3   \n",
      "3      4             2013.500          13.3   \n",
      "4      5             2012.833           5.0   \n",
      "..   ...                  ...           ...   \n",
      "409  410             2013.000          13.7   \n",
      "410  411             2012.667           5.6   \n",
      "411  412             2013.250          18.8   \n",
      "412  413             2013.000           8.1   \n",
      "413  414             2013.500           6.5   \n",
      "\n",
      "     X3 distance to the nearest MRT station  X4 number of convenience stores  \\\n",
      "0                                  84.87882                               10   \n",
      "1                                 306.59470                                9   \n",
      "2                                 561.98450                                5   \n",
      "3                                 561.98450                                5   \n",
      "4                                 390.56840                                5   \n",
      "..                                      ...                              ...   \n",
      "409                              4082.01500                                0   \n",
      "410                                90.45606                                9   \n",
      "411                               390.96960                                7   \n",
      "412                               104.81010                                5   \n",
      "413                                90.45606                                9   \n",
      "\n",
      "     X5 latitude  X6 longitude  Y house price of unit area  \n",
      "0       24.98298     121.54024                       False  \n",
      "1       24.98034     121.53951                        True  \n",
      "2       24.98746     121.54391                        True  \n",
      "3       24.98746     121.54391                        True  \n",
      "4       24.97937     121.54245                        True  \n",
      "..           ...           ...                         ...  \n",
      "409     24.94155     121.50381                       False  \n",
      "410     24.97433     121.54310                        True  \n",
      "411     24.97923     121.53986                        True  \n",
      "412     24.96674     121.54067                        True  \n",
      "413     24.97433     121.54310                        True  \n",
      "\n",
      "[414 rows x 8 columns]\n"
     ]
    }
   ],
   "source": [
    "# modify the data set for the classification purpose\n",
    "real_estate_data_cls = real_estate_data.copy()\n",
    "real_estate_data_cls[\"Y house price of unit area\"] = \\\n",
    "real_estate_data_cls[\"Y house price of unit area\"]>real_estate_data_cls[\"Y house price of unit area\"].mean()\n",
    "print (real_estate_data_cls)"
   ]
  },
  {
   "cell_type": "code",
   "execution_count": 17,
   "id": "002fd675",
   "metadata": {},
   "outputs": [
    {
     "data": {
      "text/plain": [
       "[<matplotlib.lines.Line2D at 0x7fab9a59bb50>]"
      ]
     },
     "execution_count": 17,
     "metadata": {},
     "output_type": "execute_result"
    },
    {
     "data": {
      "image/png": "[encoded data removed]",
      "text/plain": [
       "<Figure size 500x300 with 1 Axes>"
      ]
     },
     "metadata": {},
     "output_type": "display_data"
    }
   ],
   "source": [
    "fig, ax = plt.subplots(1, figsize=(5,3))\n",
    "idx = np.where(real_estate_data_cls[\"Y house price of unit area\"].to_numpy()==True)[0]\n",
    "neg_idx = np.where(real_estate_data_cls[\"Y house price of unit area\"].to_numpy()==False)[0]\n",
    "ax.plot(real_estate_data_cls[\"X1 transaction date\"][idx], \n",
    "         real_estate_data[\"Y house price of unit area\"][idx], \"b.\")\n",
    "ax.plot(real_estate_data_cls[\"X1 transaction date\"][neg_idx], \n",
    "         real_estate_data[\"Y house price of unit area\"][neg_idx], \"g.\")\n"
   ]
  },
  {
   "cell_type": "markdown",
   "id": "21aa61bf",
   "metadata": {},
   "source": [
    "### A Regression Perspective"
   ]
  },
  {
   "cell_type": "code",
   "execution_count": 23,
   "id": "e8d4da12",
   "metadata": {},
   "outputs": [],
   "source": [
    "from sklearn import linear_model"
   ]
  },
  {
   "cell_type": "code",
   "execution_count": 27,
   "id": "b3696447",
   "metadata": {},
   "outputs": [
    {
     "data": {
      "text/plain": [
       "LinearRegression()"
      ]
     },
     "execution_count": 27,
     "metadata": {},
     "output_type": "execute_result"
    }
   ],
   "source": [
    "xs = real_estate_data_cls[\"X2 house age\"].to_numpy()\n",
    "ys = real_estate_data_cls[\"Y house price of unit area\"].to_numpy().astype(int)\n",
    "ys = ys * 2 - 1\n",
    "model = linear_model.LinearRegression(fit_intercept=True)\n",
    "model.fit(xs.reshape(-1,1), ys)"
   ]
  },
  {
   "cell_type": "code",
   "execution_count": 28,
   "id": "9be9fd1c",
   "metadata": {},
   "outputs": [
    {
     "data": {
      "text/plain": [
       "[<matplotlib.lines.Line2D at 0x7faba8bac090>]"
      ]
     },
     "execution_count": 28,
     "metadata": {},
     "output_type": "execute_result"
    },
    {
     "data": {
      "image/png": "[encoded data removed]",
      "text/plain": [
       "<Figure size 500x300 with 1 Axes>"
      ]
     },
     "metadata": {},
     "output_type": "display_data"
    }
   ],
   "source": [
    "fig, ax = plt.subplots(1, figsize=(5,3))\n",
    "idx = np.where(real_estate_data_cls[\"Y house price of unit area\"].to_numpy()==True)[0]\n",
    "neg_idx = np.where(real_estate_data_cls[\"Y house price of unit area\"].to_numpy()==False)[0]\n",
    "ax.plot(xs[idx], ys[idx], \"b.\")\n",
    "ax.plot(xs[neg_idx], ys[neg_idx], \"g.\")\n",
    "ax.plot(np.sort(xs), model.predict(np.sort(xs).reshape(-1,1)),\"-\")"
   ]
  },
  {
   "cell_type": "markdown",
   "id": "ea2132bb",
   "metadata": {},
   "source": [
    "### Logistic Function"
   ]
  },
  {
   "cell_type": "code",
   "execution_count": 29,
   "id": "5aba3c2b",
   "metadata": {},
   "outputs": [],
   "source": [
    "def logistic_func(x, w=1, b=0):\n",
    "    z = w*x + b \n",
    "    return 1/(1+np.exp(-z))"
   ]
  },
  {
   "cell_type": "code",
   "execution_count": 36,
   "id": "37968155",
   "metadata": {},
   "outputs": [
    {
     "data": {
      "text/plain": [
       "<matplotlib.legend.Legend at 0x7fab6a042750>"
      ]
     },
     "execution_count": 36,
     "metadata": {},
     "output_type": "execute_result"
    },
    {
     "data": {
      "image/png": "[encoded data removed]",
      "text/plain": [
       "<Figure size 500x300 with 1 Axes>"
      ]
     },
     "metadata": {},
     "output_type": "display_data"
    }
   ],
   "source": [
    "xs = np.arange(-100,100)\n",
    "fig, ax = plt.subplots(1, figsize=(5,3))\n",
    "ax.plot(xs, logistic_func(xs),\"b-\", label=\"w=1, b=0\")\n",
    "ax.plot(xs, logistic_func(xs, w=5, b=0),\"g-\", label=\"w=5, b=0\")\n",
    "ax.plot(xs, logistic_func(xs, w=1, b=10),\"r-\", label=\"w=1, b=10\")\n",
    "plt.legend()"
   ]
  },
  {
   "cell_type": "code",
   "execution_count": null,
   "id": "d0b0c5af",
   "metadata": {},
   "outputs": [],
   "source": []
  }
 ],
 "metadata": {
  "kernelspec": {
   "display_name": "Python 3 (ipykernel)",
   "language": "python",
   "name": "python3"
  },
  "language_info": {
   "codemirror_mode": {
    "name": "ipython",
    "version": 3
   },
   "file_extension": ".py",
   "mimetype": "text/x-python",
   "name": "python",
   "nbconvert_exporter": "python",
   "pygments_lexer": "ipython3",
   "version": "3.7.16"
  }
 },
 "nbformat": 4,
 "nbformat_minor": 5
}
