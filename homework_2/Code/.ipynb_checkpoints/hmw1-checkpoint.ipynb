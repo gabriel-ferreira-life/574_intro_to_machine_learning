{
 "cells": [
  {
   "cell_type": "markdown",
   "id": "a71d6c49",
   "metadata": {},
   "source": [
    "# COM S 474/574 Spring 2024\n",
    "# 4.1 Linear Regression\n",
    "## Gabriel Ferreira(gabferre@iastate.edu)"
   ]
  },
  {
   "cell_type": "markdown",
   "id": "fa83579f",
   "metadata": {},
   "source": [
    "### - The Real Estate Dataset"
   ]
  },
  {
   "cell_type": "markdown",
   "id": "e80d86e3",
   "metadata": {},
   "source": [
    "- data source: https://www.kaggle.com/datasets/quantbruce/real-estate-price-prediction/\n",
    "- a local copy is saved as \"data/Real_estate.csv\""
   ]
  },
  {
   "cell_type": "code",
   "execution_count": 4,
   "id": "7ba453bb",
   "metadata": {},
   "outputs": [],
   "source": [
    "import numpy as np \n",
    "import pandas as pd\n",
    "import matplotlib.pyplot as plt"
   ]
  },
  {
   "cell_type": "markdown",
   "id": "e594a87e",
   "metadata": {},
   "source": [
    "### Dataset"
   ]
  },
  {
   "cell_type": "code",
   "execution_count": 34,
   "id": "5fa6a45b",
   "metadata": {},
   "outputs": [],
   "source": [
    "x=[1,2,3,4,5,6,10]\n",
    "y=[0,1,3,2,20,-6,80]"
   ]
  },
  {
   "cell_type": "markdown",
   "id": "f3f4673f",
   "metadata": {},
   "source": [
    "### Visualize"
   ]
  },
  {
   "cell_type": "code",
   "execution_count": 72,
   "id": "0b51ec13",
   "metadata": {},
   "outputs": [
    {
     "data": {
      "text/plain": [
       "<matplotlib.legend.Legend at 0x7fc1d9b32c40>"
      ]
     },
     "execution_count": 72,
     "metadata": {},
     "output_type": "execute_result"
    },
    {
     "data": {
      "image/png": "[encoded data removed]",
      "text/plain": [
       "<Figure size 800x500 with 1 Axes>"
      ]
     },
     "metadata": {},
     "output_type": "display_data"
    }
   ],
   "source": [
    "# Creating a scatter plot\n",
    "plt.figure(figsize=(8, 5))\n",
    "plt.scatter(x,y, c='r', marker='*',label='xi,yi')\n",
    "plt.xlabel('x')\n",
    "plt.ylabel('y')\n",
    "plt.title('Question 1 Dataset')\n",
    "plt.legend()"
   ]
  },
  {
   "cell_type": "markdown",
   "id": "b17292af",
   "metadata": {},
   "source": [
    "### 1.a)"
   ]
  },
  {
   "cell_type": "code",
   "execution_count": 83,
   "id": "cd589892",
   "metadata": {},
   "outputs": [
    {
     "name": "stdout",
     "output_type": "stream",
     "text": [
      "x_mean: 4.43  |  y_mean: 14.29\n"
     ]
    }
   ],
   "source": [
    "x_mean = round(np.mean(x), 2)\n",
    "y_mean = round(np.mean(y), 2)\n",
    "print(\"x_mean:\", x_mean, \" | \", \"y_mean:\", y_mean)"
   ]
  },
  {
   "cell_type": "markdown",
   "id": "96de711b",
   "metadata": {},
   "source": [
    "### 1.b)\n",
    "Sample x Variance = np.mean((x-x_mean)**2)\\\n",
    "Sample y Variance = np.mean((y-y_mean)**2)\\\n",
    "Sample Covariance = np.mean((x-x_mean)*(y-y_mean))"
   ]
  },
  {
   "cell_type": "code",
   "execution_count": 87,
   "id": "2a267cd8",
   "metadata": {},
   "outputs": [
    {
     "name": "stdout",
     "output_type": "stream",
     "text": [
      "Sample x Variance: 7.673471428571427  |  Sample y Variance: 774.4898142857145  |  Sample Covariance: 62.88\n"
     ]
    }
   ],
   "source": [
    "# Sample x Variance = np.mean((x-x_mean)**2)\n",
    "x_variance = np.mean((x-x_mean)**2)\n",
    "\n",
    "# Sample y Variance = np.mean((y-y_mean)**2)\n",
    "y_variance = np.mean((y-y_mean)**2)\n",
    "\n",
    "# Sample Covariance = np.mean((x-x_mean)*(y-y_mean))\n",
    "sxy = np.mean((x-x_mean)*(y-y_mean))\n",
    "\n",
    "print(\"Sample x Variance:\", x_variance, \" | \", \"Sample y Variance:\", y_variance, \" | \", \"Sample Covariance:\", round(sxy, 2))"
   ]
  },
  {
   "cell_type": "markdown",
   "id": "46917b58",
   "metadata": {},
   "source": [
    "### 1.c) What is the solution (a, b) in y = ax + b?\n",
    "a = slope\\\n",
    "b = intercept"
   ]
  },
  {
   "cell_type": "code",
   "execution_count": 88,
   "id": "e4ee7a00",
   "metadata": {},
   "outputs": [
    {
     "name": "stdout",
     "output_type": "stream",
     "text": [
      "Slope: 8.194147554747993  |  Intercept: -22.010073667533604\n"
     ]
    }
   ],
   "source": [
    "# slope = Sample Covariance / Sample x Variance\n",
    "a = sxy/x_variance\n",
    "\n",
    "# intercept = y mean - (slope*x mean)\n",
    "b = y_mean - a * x_mean\n",
    "\n",
    "print(\"Slope:\", a, \" | \", \"Intercept:\", b)"
   ]
  },
  {
   "cell_type": "code",
   "execution_count": 59,
   "id": "9d4993bd",
   "metadata": {},
   "outputs": [
    {
     "name": "stdout",
     "output_type": "stream",
     "text": [
      "(7, 3)\n"
     ]
    },
    {
     "data": {
      "text/plain": [
       "array([[  1,   1,   1],\n",
       "       [  1,   2,   4],\n",
       "       [  1,   3,   9],\n",
       "       [  1,   4,  16],\n",
       "       [  1,   5,  25],\n",
       "       [  1,   6,  36],\n",
       "       [  1,  10, 100]])"
      ]
     },
     "execution_count": 59,
     "metadata": {},
     "output_type": "execute_result"
    }
   ],
   "source": [
    "from numpy import array\n",
    "# Constructing the design matrix X\n",
    "X = array([[1, xi, xi**2] for xi in x])\n",
    "print(X.shape)\n",
    "X"
   ]
  },
  {
   "cell_type": "code",
   "execution_count": 63,
   "id": "1589ac3f",
   "metadata": {},
   "outputs": [
    {
     "name": "stdout",
     "output_type": "stream",
     "text": [
      "(3, 7)\n"
     ]
    },
    {
     "data": {
      "text/plain": [
       "array([[  1,   1,   1,   1,   1,   1,   1],\n",
       "       [  1,   2,   3,   4,   5,   6,  10],\n",
       "       [  1,   4,   9,  16,  25,  36, 100]])"
      ]
     },
     "execution_count": 63,
     "metadata": {},
     "output_type": "execute_result"
    }
   ],
   "source": [
    "print(X.T.shape)\n",
    "X.T"
   ]
  },
  {
   "cell_type": "code",
   "execution_count": 51,
   "id": "422f1bb1",
   "metadata": {},
   "outputs": [
    {
     "data": {
      "text/plain": [
       "array([[    7,    31,   191],\n",
       "       [   31,   191,  1441],\n",
       "       [  191,  1441, 12275]])"
      ]
     },
     "execution_count": 51,
     "metadata": {},
     "output_type": "execute_result"
    }
   ],
   "source": [
    "XTX = X.T @ X\n",
    "XTX"
   ]
  },
  {
   "cell_type": "code",
   "execution_count": 53,
   "id": "05cf8fbb",
   "metadata": {},
   "outputs": [
    {
     "data": {
      "text/plain": [
       "array([[ 1.51880057, -0.59662066,  0.04640647],\n",
       "       [-0.59662066,  0.28016137, -0.02360554],\n",
       "       [ 0.04640647, -0.02360554,  0.0021305 ]])"
      ]
     },
     "execution_count": 53,
     "metadata": {},
     "output_type": "execute_result"
    }
   ],
   "source": [
    "from numpy.linalg import inv\n",
    "XTX_inv = inv(XTX)\n",
    "XTX_inv"
   ]
  },
  {
   "cell_type": "code",
   "execution_count": 62,
   "id": "0f5e0634",
   "metadata": {},
   "outputs": [
    {
     "data": {
      "text/plain": [
       "array([ 100,  883, 8347])"
      ]
     },
     "execution_count": 62,
     "metadata": {},
     "output_type": "execute_result"
    }
   ],
   "source": [
    "XTy = X.T @ y\n",
    "XTy"
   ]
  },
  {
   "cell_type": "code",
   "execution_count": 56,
   "id": "1ef908bf",
   "metadata": {},
   "outputs": [
    {
     "data": {
      "text/plain": [
       "array([12.41884817, -9.31500873,  1.58027923])"
      ]
     },
     "execution_count": 56,
     "metadata": {},
     "output_type": "execute_result"
    }
   ],
   "source": [
    "theta = XTX_inv @ XTy\n",
    "theta"
   ]
  },
  {
   "cell_type": "code",
   "execution_count": 80,
   "id": "e13c0001",
   "metadata": {},
   "outputs": [
    {
     "name": "stdout",
     "output_type": "stream",
     "text": [
      "a = 8.194, b=-22.003, score=0.665\n"
     ]
    }
   ],
   "source": [
    "import numpy as np\n",
    "from sklearn import linear_model\n",
    "X = np.array([1, 2, 3, 4, 5, 6, 10]).reshape(-1,1) \n",
    "Y = np.array([0, 1, 3, 2, 20, -6,80])\n",
    "\"\"\"fit y=ax+b\"\"\"\n",
    "model = linear_model.LinearRegression(fit_intercept=True) \n",
    "model.fit(X, Y)\n",
    "print (\"a = %s, b=%s, score=%s\" % \n",
    "       (\"{:.3f}\".format(model.coef_[0]),\n",
    "        \"{:.3f}z\".format(model.intercept_), \n",
    "        \"{:.3f}\".format(model.score(X, Y))))\n"
   ]
  },
  {
   "cell_type": "code",
   "execution_count": null,
   "id": "40f298b7",
   "metadata": {},
   "outputs": [],
   "source": []
  }
 ],
 "metadata": {
  "kernelspec": {
   "display_name": "Python 3 (ipykernel)",
   "language": "python",
   "name": "python3"
  },
  "language_info": {
   "codemirror_mode": {
    "name": "ipython",
    "version": 3
   },
   "file_extension": ".py",
   "mimetype": "text/x-python",
   "name": "python",
   "nbconvert_exporter": "python",
   "pygments_lexer": "ipython3",
   "version": "3.8.16"
  }
 },
 "nbformat": 4,
 "nbformat_minor": 5
}
